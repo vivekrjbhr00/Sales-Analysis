{
 "cells": [
  {
   "cell_type": "code",
   "execution_count": 1,
   "id": "bc28878f-2c21-4114-92e8-bb7924e1764c",
   "metadata": {},
   "outputs": [],
   "source": [
    "import pandas as pd\n",
    "import matplotlib.pyplot as plt"
   ]
  },
  {
   "cell_type": "code",
   "execution_count": 8,
   "id": "65f5cbbf-479a-4fb6-8ec3-d964ebcb7eeb",
   "metadata": {},
   "outputs": [],
   "source": [
    "# Load sales data into a DataFrame (assuming the data is stored in a CSV file)\n",
    "data = pd.read_csv(\"salesdata.csv\")"
   ]
  },
  {
   "cell_type": "code",
   "execution_count": 9,
   "id": "39b64fc6-8397-494d-8dee-223c64bcb4dd",
   "metadata": {},
   "outputs": [
    {
     "data": {
      "text/html": [
       "<div>\n",
       "<style scoped>\n",
       "    .dataframe tbody tr th:only-of-type {\n",
       "        vertical-align: middle;\n",
       "    }\n",
       "\n",
       "    .dataframe tbody tr th {\n",
       "        vertical-align: top;\n",
       "    }\n",
       "\n",
       "    .dataframe thead th {\n",
       "        text-align: right;\n",
       "    }\n",
       "</style>\n",
       "<table border=\"1\" class=\"dataframe\">\n",
       "  <thead>\n",
       "    <tr style=\"text-align: right;\">\n",
       "      <th></th>\n",
       "      <th>Date</th>\n",
       "      <th>Time</th>\n",
       "      <th>State</th>\n",
       "      <th>Group</th>\n",
       "      <th>Unit</th>\n",
       "      <th>Sales</th>\n",
       "    </tr>\n",
       "  </thead>\n",
       "  <tbody>\n",
       "    <tr>\n",
       "      <th>0</th>\n",
       "      <td>01-Oct-20</td>\n",
       "      <td>Morning</td>\n",
       "      <td>WA</td>\n",
       "      <td>Kids</td>\n",
       "      <td>8</td>\n",
       "      <td>20000</td>\n",
       "    </tr>\n",
       "    <tr>\n",
       "      <th>1</th>\n",
       "      <td>01-Oct-20</td>\n",
       "      <td>Morning</td>\n",
       "      <td>WA</td>\n",
       "      <td>Men</td>\n",
       "      <td>8</td>\n",
       "      <td>20000</td>\n",
       "    </tr>\n",
       "    <tr>\n",
       "      <th>2</th>\n",
       "      <td>01-Oct-20</td>\n",
       "      <td>Morning</td>\n",
       "      <td>WA</td>\n",
       "      <td>Women</td>\n",
       "      <td>4</td>\n",
       "      <td>10000</td>\n",
       "    </tr>\n",
       "    <tr>\n",
       "      <th>3</th>\n",
       "      <td>01-Oct-20</td>\n",
       "      <td>Morning</td>\n",
       "      <td>WA</td>\n",
       "      <td>Seniors</td>\n",
       "      <td>15</td>\n",
       "      <td>37500</td>\n",
       "    </tr>\n",
       "    <tr>\n",
       "      <th>4</th>\n",
       "      <td>01-Oct-20</td>\n",
       "      <td>Afternoon</td>\n",
       "      <td>WA</td>\n",
       "      <td>Kids</td>\n",
       "      <td>3</td>\n",
       "      <td>7500</td>\n",
       "    </tr>\n",
       "  </tbody>\n",
       "</table>\n",
       "</div>"
      ],
      "text/plain": [
       "        Date        Time State     Group  Unit  Sales\n",
       "0  01-Oct-20     Morning    WA      Kids     8  20000\n",
       "1  01-Oct-20     Morning    WA       Men     8  20000\n",
       "2  01-Oct-20     Morning    WA     Women     4  10000\n",
       "3  01-Oct-20     Morning    WA   Seniors    15  37500\n",
       "4  01-Oct-20   Afternoon    WA      Kids     3   7500"
      ]
     },
     "execution_count": 9,
     "metadata": {},
     "output_type": "execute_result"
    }
   ],
   "source": [
    "# Display the first few rows of the DataFrame to understand its structure\n",
    "data.head()"
   ]
  },
  {
   "cell_type": "code",
   "execution_count": 12,
   "id": "175a6e34-44e3-4f80-8885-a2be3383478c",
   "metadata": {},
   "outputs": [],
   "source": [
    "# Group the data by state and calculate total revenue for each state\n",
    "revenue_by_state = data.groupby('State')['Sales'].sum().reset_index()"
   ]
  },
  {
   "cell_type": "code",
   "execution_count": 13,
   "id": "1a48e59d-3918-4207-9b30-77aa8bbeeef3",
   "metadata": {},
   "outputs": [],
   "source": [
    "# Sort the states by revenue in descending order\n",
    "revenue_by_state = revenue_by_state.sort_values(by='Sales', ascending=False)"
   ]
  },
  {
   "cell_type": "code",
   "execution_count": 15,
   "id": "4b352a92-33cd-44f2-971b-b869723e2a92",
   "metadata": {},
   "outputs": [
    {
     "data": {
      "image/png": "[encoded data removed]",
      "text/plain": [
       "<Figure size 720x432 with 1 Axes>"
      ]
     },
     "metadata": {
      "needs_background": "light"
     },
     "output_type": "display_data"
    }
   ],
   "source": [
    "# Visualising the revenue distribution across states\n",
    "plt.figure(figsize=(10, 6))\n",
    "plt.bar(revenue_by_state['State'], revenue_by_state['Sales'])\n",
    "plt.xlabel('State')\n",
    "plt.ylabel('Total Revenue')\n",
    "plt.title('Total Revenue by State')\n",
    "plt.xticks(rotation=45)\n",
    "plt.show()"
   ]
  },
  {
   "cell_type": "code",
   "execution_count": 16,
   "id": "c66d8901-647e-4a7f-9093-2eeae7705f40",
   "metadata": {},
   "outputs": [
    {
     "name": "stdout",
     "output_type": "stream",
     "text": [
      "Top-performing states:\n",
      "  State      Sales\n",
      "5   VIC  105565000\n",
      "0   NSW   74970000\n",
      "3    SA   58857500\n",
      "2   QLD   33417500\n",
      "4   TAS   22760000\n"
     ]
    }
   ],
   "source": [
    "# Identify top-performing states\n",
    "top_states = revenue_by_state.head(5)\n",
    "print(\"Top-performing states:\")\n",
    "print(top_states)"
   ]
  },
  {
   "cell_type": "code",
   "execution_count": 17,
   "id": "b2273075-3aa5-448a-b938-625033503396",
   "metadata": {},
   "outputs": [
    {
     "name": "stdout",
     "output_type": "stream",
     "text": [
      "\n",
      "States with lower revenues:\n",
      "  State     Sales\n",
      "3    SA  58857500\n",
      "2   QLD  33417500\n",
      "4   TAS  22760000\n",
      "1    NT  22580000\n",
      "6    WA  22152500\n"
     ]
    }
   ],
   "source": [
    "# Identify states with lower revenues\n",
    "lower_states = revenue_by_state.tail(5)\n",
    "print(\"\\nStates with lower revenues:\")\n",
    "print(lower_states)"
   ]
  },
  {
   "cell_type": "code",
   "execution_count": 36,
   "id": "a094ac7b-3e1e-4348-a989-4a94807b9fa5",
   "metadata": {},
   "outputs": [],
   "source": [
    "# Develop sales programs for states with lower revenues\n",
    "# - Conduct market research\n",
    "# - Create targeted marketing campaigns\n",
    "# - Offer promotions or discounts\n",
    "# - Improve product visibility and availability\n",
    "# - Train and motivate sales staff\n",
    "# - Explore partnerships or collaborations"
   ]
  },
  {
   "cell_type": "code",
   "execution_count": 19,
   "id": "5a34bad9-2445-4461-8c02-d6977e6662c7",
   "metadata": {},
   "outputs": [],
   "source": [
    "data['Date'] = pd.to_datetime(data['Date'])"
   ]
  },
  {
   "cell_type": "code",
   "execution_count": 22,
   "id": "5a958cf6-be5e-4c44-aecd-11a8dda5363e",
   "metadata": {},
   "outputs": [
    {
     "name": "stdout",
     "output_type": "stream",
     "text": [
      "<class 'pandas.core.frame.DataFrame'>\n",
      "RangeIndex: 7560 entries, 0 to 7559\n",
      "Data columns (total 6 columns):\n",
      " #   Column  Non-Null Count  Dtype         \n",
      "---  ------  --------------  -----         \n",
      " 0   Date    7560 non-null   datetime64[ns]\n",
      " 1   Time    7560 non-null   object        \n",
      " 2   State   7560 non-null   object        \n",
      " 3   Group   7560 non-null   object        \n",
      " 4   Unit    7560 non-null   int64         \n",
      " 5   Sales   7560 non-null   int64         \n",
      "dtypes: datetime64[ns](1), int64(2), object(3)\n",
      "memory usage: 354.5+ KB\n"
     ]
    }
   ],
   "source": [
    "# Getting data information after change date to datetime\n",
    "data.info()"
   ]
  },
  {
   "cell_type": "code",
   "execution_count": 23,
   "id": "3c7f231b-408f-4fd7-9279-fa8509461f05",
   "metadata": {},
   "outputs": [],
   "source": [
    "# Filter data for the fourth quarter (October, November, December)\n",
    "data_q4 = data[(data['Date'].dt.month >= 10) & (data['Date'].dt.month <= 12)]"
   ]
  },
  {
   "cell_type": "code",
   "execution_count": 26,
   "id": "ebbabaf6-db01-4e95-aacf-9e4c53f65acc",
   "metadata": {},
   "outputs": [],
   "source": [
    "# Group the data by state and calculate key metrics\n",
    "sales_by_state = data_q4.groupby('State').agg({\n",
    "    'Sales': 'sum',\n",
    "    'Unit': 'count'\n",
    "}).reset_index()"
   ]
  },
  {
   "cell_type": "code",
   "execution_count": 28,
   "id": "16f6c67b-73e6-4ae3-818b-d9355e058876",
   "metadata": {},
   "outputs": [],
   "source": [
    "# Calculate average revenue per transaction\n",
    "sales_by_state['Avg_Revenue_Per_Transaction'] = sales_by_state['Sales'] / sales_by_state['Unit']"
   ]
  },
  {
   "cell_type": "code",
   "execution_count": 29,
   "id": "fbb904cd-7497-4e4c-8f24-bfc1a9e814a0",
   "metadata": {},
   "outputs": [],
   "source": [
    "# Sort the data by total revenue in descending order\n",
    "sales_by_state = sales_by_state.sort_values(by='Sales', ascending=False)"
   ]
  },
  {
   "cell_type": "code",
   "execution_count": 31,
   "id": "cfbe2a9d-e8ed-4989-a057-51e67cb4fb13",
   "metadata": {},
   "outputs": [
    {
     "data": {
      "image/png": "[encoded data removed]",
      "text/plain": [
       "<Figure size 864x432 with 1 Axes>"
      ]
     },
     "metadata": {
      "needs_background": "light"
     },
     "output_type": "display_data"
    }
   ],
   "source": [
    "# Visualize the data\n",
    "plt.figure(figsize=(12, 6))\n",
    "plt.bar(sales_by_state['State'], sales_by_state['Sales'])\n",
    "plt.xlabel('State')\n",
    "plt.ylabel('Total Revenue')\n",
    "plt.title('Total Revenue by State in Q4')\n",
    "plt.xticks(rotation=45)\n",
    "plt.show()\n"
   ]
  },
  {
   "cell_type": "code",
   "execution_count": 33,
   "id": "0666c34b-7413-42c4-bbe5-80cb7735231e",
   "metadata": {},
   "outputs": [
    {
     "name": "stdout",
     "output_type": "stream",
     "text": [
      "Sales Performance by State in Q4:\n",
      "  State      Sales  Unit  Avg_Revenue_Per_Transaction\n",
      "5   VIC  105565000  1080                 97745.370370\n",
      "0   NSW   74970000  1080                 69416.666667\n",
      "3    SA   58857500  1080                 54497.685185\n",
      "2   QLD   33417500  1080                 30942.129630\n",
      "4   TAS   22760000  1080                 21074.074074\n",
      "1    NT   22580000  1080                 20907.407407\n",
      "6    WA   22152500  1080                 20511.574074\n"
     ]
    }
   ],
   "source": [
    "# Print insights and recommendations\n",
    "print(\"Sales Performance by State in Q4:\")\n",
    "print(sales_by_state)"
   ]
  },
  {
   "cell_type": "code",
   "execution_count": 35,
   "id": "8db1ad80-faa7-441e-9157-4a18a929cae6",
   "metadata": {},
   "outputs": [],
   "source": [
    "# - Focus on high-performing states for expansion or targeted marketing campaigns\n",
    "# - Investigate reasons for low sales in specific states and develop strategies to improve performance\n",
    "# - Analyze demographic data to identify potential opportunities for product diversification or customization"
   ]
  },
  {
   "cell_type": "code",
   "execution_count": null,
   "id": "6a01eb7c-21b3-4aa6-8a3b-cbe3b812dc9f",
   "metadata": {},
   "outputs": [],
   "source": []
  }
 ],
 "metadata": {
  "kernelspec": {
   "display_name": "Python 3 [3.10]",
   "language": "python",
   "name": "python3"
  },
  "language_info": {
   "codemirror_mode": {
    "name": "ipython",
    "version": 3
   },
   "file_extension": ".py",
   "mimetype": "text/x-python",
   "name": "python",
   "nbconvert_exporter": "python",
   "pygments_lexer": "ipython3",
   "version": "3.10.2"
  }
 },
 "nbformat": 4,
 "nbformat_minor": 5
}
